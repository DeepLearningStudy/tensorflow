{
 "metadata": {
  "name": ""
 },
 "nbformat": 3,
 "nbformat_minor": 0,
 "worksheets": [
  {
   "cells": [
    {
     "cell_type": "code",
     "collapsed": false,
     "input": [
      "import input_data"
     ],
     "language": "python",
     "metadata": {},
     "outputs": [],
     "prompt_number": 1
    },
    {
     "cell_type": "code",
     "collapsed": false,
     "input": [
      "mnist = input_data.read_data_sets(\"MNIST_data/\", one_hot=True)"
     ],
     "language": "python",
     "metadata": {},
     "outputs": [
      {
       "output_type": "stream",
       "stream": "stdout",
       "text": [
        "Succesfully downloaded train-images-idx3-ubyte.gz 9912422 bytes.\n",
        "Extracting MNIST_data/train-images-idx3-ubyte.gz\n",
        "Succesfully downloaded"
       ]
      },
      {
       "output_type": "stream",
       "stream": "stdout",
       "text": [
        " train-labels-idx1-ubyte.gz 28881 bytes.\n",
        "Extracting MNIST_data/train-labels-idx1-ubyte.gz\n",
        "Succesfully downloaded"
       ]
      },
      {
       "output_type": "stream",
       "stream": "stdout",
       "text": [
        " t10k-images-idx3-ubyte.gz 1648877 bytes.\n",
        "Extracting MNIST_data/t10k-images-idx3-ubyte.gz\n",
        "Succesfully downloaded"
       ]
      },
      {
       "output_type": "stream",
       "stream": "stdout",
       "text": [
        " t10k-labels-idx1-ubyte.gz 4542 bytes.\n",
        "Extracting MNIST_data/t10k-labels-idx1-ubyte.gz\n"
       ]
      }
     ],
     "prompt_number": 2
    },
    {
     "cell_type": "code",
     "collapsed": false,
     "input": [],
     "language": "python",
     "metadata": {},
     "outputs": []
    }
   ],
   "metadata": {}
  }
 ]
}